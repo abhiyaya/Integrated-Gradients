{
 "cells": [
  {
   "cell_type": "code",
   "execution_count": 1,
   "metadata": {},
   "outputs": [],
   "source": [
    "import pandas as pd\n",
    "import tensorflow as tf\n",
    "import sys\n",
    "import os\n",
    "\n",
    "parent_directory = os.path.abspath(os.path.join(os.getcwd(), '..'))\n",
    "sys.path.append(parent_directory)\n",
    "\n",
    "from src.integrated_gradients import integrated_gradients\n",
    "from src.utils import plot_feature_importance"
   ]
  },
  {
   "cell_type": "code",
   "execution_count": 2,
   "metadata": {},
   "outputs": [],
   "source": [
    "feature_df = pd.read_csv('../data/dailyActivity_merged.csv')\n",
    "target_df = pd.read_csv('../data/sleepDay_merged.csv')\n",
    "model = tf.keras.models.load_model('../models/baseline.keras')\n",
    "\n",
    "\n",
    "min_date = pd.to_datetime(feature_df['ActivityDate']).min()\n",
    "feature_df['day'] = feature_df['ActivityDate'].apply(lambda x: (pd.to_datetime(x) - min_date).days)\n",
    "target_df['day'] = target_df['SleepDay'].apply(lambda x: (pd.to_datetime(x) - min_date).days)\n",
    "df = feature_df.merge( target_df, on=['Id','day'],how='inner')\n",
    "df= df[df['day']<=15]\n",
    "\n",
    "\n",
    "\n",
    "feature_columns = ['TotalSteps', 'TotalDistance', 'TrackerDistance', 'LoggedActivitiesDistance', 'VeryActiveDistance',\n",
    "                   'ModeratelyActiveDistance', 'LightActiveDistance', 'SedentaryActiveDistance', 'VeryActiveMinutes',\n",
    "                   'FairlyActiveMinutes', 'LightlyActiveMinutes', 'SedentaryMinutes','TotalMinutesAsleep']  # Add your features here\n",
    "\n",
    "# Make sure 'day' is treated as a categorical feature, and we pivot based on it\n",
    "# \n",
    "df_pivoted = df.groupby(['Id','day'],as_index=False).agg({a:'mean' for a in feature_columns})\n",
    "df_pivoted = df_pivoted.pivot(index='Id', columns='day', values=feature_columns)\n",
    "df_pivoted.columns = ['_'.join(map(str, col)) for col in df_pivoted.columns]\n",
    "\n",
    "y = df_pivoted[[x for x in df_pivoted.columns if 'TotalMinutesAsleep' in x]].mean(axis=1).to_numpy() # averagae sleep time\n",
    "df_pivoted = df_pivoted.fillna(0)\n",
    "X = df_pivoted[[x for x in df_pivoted.columns if 'TotalMinutesAsleep' not in x]].to_numpy().reshape((df_pivoted.shape[0], 16, len(feature_columns)-1))\n"
   ]
  },
  {
   "cell_type": "code",
   "execution_count": 3,
   "metadata": {},
   "outputs": [],
   "source": [
    "\n",
    "# Compute Integrated Gradients\n",
    "IG_recurrent = integrated_gradients(model, X,20)"
   ]
  },
  {
   "cell_type": "code",
   "execution_count": 15,
   "metadata": {},
   "outputs": [],
   "source": [
    "import importlib\n",
    "import src.utils\n",
    "importlib.reload(src.utils)\n",
    "from src.utils import plot_feature_importance"
   ]
  },
  {
   "cell_type": "code",
   "execution_count": 16,
   "metadata": {},
   "outputs": [
    {
     "data": {
      "application/vnd.plotly.v1+json": {
       "config": {
        "plotlyServerURL": "https://plot.ly"
       },
       "data": [
        {
         "coloraxis": "coloraxis",
         "hovertemplate": "Features: %{x}<br>Time Steps (Days): %{y}<br>color: %{z}<extra></extra>",
         "name": "0",
         "type": "heatmap",
         "x": {
          "bdata": "AAECAwQFBgcICQoLDA0ODw==",
          "dtype": "i1"
         },
         "xaxis": "x",
         "y": [
          "TotalSteps",
          "TotalDistance",
          "TrackerDistance",
          "LoggedActivitiesDistance",
          "VeryActiveDistance",
          "ModeratelyActiveDistance",
          "LightActiveDistance",
          "SedentaryActiveDistance",
          "VeryActiveMinutes",
          "FairlyActiveMinutes",
          "LightlyActiveMinutes",
          "SedentaryMinutes"
         ],
         "yaxis": "y",
         "z": {
          "bdata": "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",
          "dtype": "f8",
          "shape": "12, 16"
         }
        }
       ],
       "layout": {
        "coloraxis": {
         "colorscale": [
          [
           0,
           "rgb(103,0,31)"
          ],
          [
           0.1,
           "rgb(178,24,43)"
          ],
          [
           0.2,
           "rgb(214,96,77)"
          ],
          [
           0.3,
           "rgb(244,165,130)"
          ],
          [
           0.4,
           "rgb(253,219,199)"
          ],
          [
           0.5,
           "rgb(247,247,247)"
          ],
          [
           0.6,
           "rgb(209,229,240)"
          ],
          [
           0.7,
           "rgb(146,197,222)"
          ],
          [
           0.8,
           "rgb(67,147,195)"
          ],
          [
           0.9,
           "rgb(33,102,172)"
          ],
          [
           1,
           "rgb(5,48,97)"
          ]
         ]
        },
        "height": 600,
        "template": {
         "data": {
          "bar": [
           {
            "error_x": {
             "color": "#2a3f5f"
            },
            "error_y": {
             "color": "#2a3f5f"
            },
            "marker": {
             "line": {
              "color": "#E5ECF6",
              "width": 0.5
             },
             "pattern": {
              "fillmode": "overlay",
              "size": 10,
              "solidity": 0.2
             }
            },
            "type": "bar"
           }
          ],
          "barpolar": [
           {
            "marker": {
             "line": {
              "color": "#E5ECF6",
              "width": 0.5
             },
             "pattern": {
              "fillmode": "overlay",
              "size": 10,
              "solidity": 0.2
             }
            },
            "type": "barpolar"
           }
          ],
          "carpet": [
           {
            "aaxis": {
             "endlinecolor": "#2a3f5f",
             "gridcolor": "white",
             "linecolor": "white",
             "minorgridcolor": "white",
             "startlinecolor": "#2a3f5f"
            },
            "baxis": {
             "endlinecolor": "#2a3f5f",
             "gridcolor": "white",
             "linecolor": "white",
             "minorgridcolor": "white",
             "startlinecolor": "#2a3f5f"
            },
            "type": "carpet"
           }
          ],
          "choropleth": [
           {
            "colorbar": {
             "outlinewidth": 0,
             "ticks": ""
            },
            "type": "choropleth"
           }
          ],
          "contour": [
           {
            "colorbar": {
             "outlinewidth": 0,
             "ticks": ""
            },
            "colorscale": [
             [
              0,
              "#0d0887"
             ],
             [
              0.1111111111111111,
              "#46039f"
             ],
             [
              0.2222222222222222,
              "#7201a8"
             ],
             [
              0.3333333333333333,
              "#9c179e"
             ],
             [
              0.4444444444444444,
              "#bd3786"
             ],
             [
              0.5555555555555556,
              "#d8576b"
             ],
             [
              0.6666666666666666,
              "#ed7953"
             ],
             [
              0.7777777777777778,
              "#fb9f3a"
             ],
             [
              0.8888888888888888,
              "#fdca26"
             ],
             [
              1,
              "#f0f921"
             ]
            ],
            "type": "contour"
           }
          ],
          "contourcarpet": [
           {
            "colorbar": {
             "outlinewidth": 0,
             "ticks": ""
            },
            "type": "contourcarpet"
           }
          ],
          "heatmap": [
           {
            "colorbar": {
             "outlinewidth": 0,
             "ticks": ""
            },
            "colorscale": [
             [
              0,
              "#0d0887"
             ],
             [
              0.1111111111111111,
              "#46039f"
             ],
             [
              0.2222222222222222,
              "#7201a8"
             ],
             [
              0.3333333333333333,
              "#9c179e"
             ],
             [
              0.4444444444444444,
              "#bd3786"
             ],
             [
              0.5555555555555556,
              "#d8576b"
             ],
             [
              0.6666666666666666,
              "#ed7953"
             ],
             [
              0.7777777777777778,
              "#fb9f3a"
             ],
             [
              0.8888888888888888,
              "#fdca26"
             ],
             [
              1,
              "#f0f921"
             ]
            ],
            "type": "heatmap"
           }
          ],
          "histogram": [
           {
            "marker": {
             "pattern": {
              "fillmode": "overlay",
              "size": 10,
              "solidity": 0.2
             }
            },
            "type": "histogram"
           }
          ],
          "histogram2d": [
           {
            "colorbar": {
             "outlinewidth": 0,
             "ticks": ""
            },
            "colorscale": [
             [
              0,
              "#0d0887"
             ],
             [
              0.1111111111111111,
              "#46039f"
             ],
             [
              0.2222222222222222,
              "#7201a8"
             ],
             [
              0.3333333333333333,
              "#9c179e"
             ],
             [
              0.4444444444444444,
              "#bd3786"
             ],
             [
              0.5555555555555556,
              "#d8576b"
             ],
             [
              0.6666666666666666,
              "#ed7953"
             ],
             [
              0.7777777777777778,
              "#fb9f3a"
             ],
             [
              0.8888888888888888,
              "#fdca26"
             ],
             [
              1,
              "#f0f921"
             ]
            ],
            "type": "histogram2d"
           }
          ],
          "histogram2dcontour": [
           {
            "colorbar": {
             "outlinewidth": 0,
             "ticks": ""
            },
            "colorscale": [
             [
              0,
              "#0d0887"
             ],
             [
              0.1111111111111111,
              "#46039f"
             ],
             [
              0.2222222222222222,
              "#7201a8"
             ],
             [
              0.3333333333333333,
              "#9c179e"
             ],
             [
              0.4444444444444444,
              "#bd3786"
             ],
             [
              0.5555555555555556,
              "#d8576b"
             ],
             [
              0.6666666666666666,
              "#ed7953"
             ],
             [
              0.7777777777777778,
              "#fb9f3a"
             ],
             [
              0.8888888888888888,
              "#fdca26"
             ],
             [
              1,
              "#f0f921"
             ]
            ],
            "type": "histogram2dcontour"
           }
          ],
          "mesh3d": [
           {
            "colorbar": {
             "outlinewidth": 0,
             "ticks": ""
            },
            "type": "mesh3d"
           }
          ],
          "parcoords": [
           {
            "line": {
             "colorbar": {
              "outlinewidth": 0,
              "ticks": ""
             }
            },
            "type": "parcoords"
           }
          ],
          "pie": [
           {
            "automargin": true,
            "type": "pie"
           }
          ],
          "scatter": [
           {
            "fillpattern": {
             "fillmode": "overlay",
             "size": 10,
             "solidity": 0.2
            },
            "type": "scatter"
           }
          ],
          "scatter3d": [
           {
            "line": {
             "colorbar": {
              "outlinewidth": 0,
              "ticks": ""
             }
            },
            "marker": {
             "colorbar": {
              "outlinewidth": 0,
              "ticks": ""
             }
            },
            "type": "scatter3d"
           }
          ],
          "scattercarpet": [
           {
            "marker": {
             "colorbar": {
              "outlinewidth": 0,
              "ticks": ""
             }
            },
            "type": "scattercarpet"
           }
          ],
          "scattergeo": [
           {
            "marker": {
             "colorbar": {
              "outlinewidth": 0,
              "ticks": ""
             }
            },
            "type": "scattergeo"
           }
          ],
          "scattergl": [
           {
            "marker": {
             "colorbar": {
              "outlinewidth": 0,
              "ticks": ""
             }
            },
            "type": "scattergl"
           }
          ],
          "scattermap": [
           {
            "marker": {
             "colorbar": {
              "outlinewidth": 0,
              "ticks": ""
             }
            },
            "type": "scattermap"
           }
          ],
          "scattermapbox": [
           {
            "marker": {
             "colorbar": {
              "outlinewidth": 0,
              "ticks": ""
             }
            },
            "type": "scattermapbox"
           }
          ],
          "scatterpolar": [
           {
            "marker": {
             "colorbar": {
              "outlinewidth": 0,
              "ticks": ""
             }
            },
            "type": "scatterpolar"
           }
          ],
          "scatterpolargl": [
           {
            "marker": {
             "colorbar": {
              "outlinewidth": 0,
              "ticks": ""
             }
            },
            "type": "scatterpolargl"
           }
          ],
          "scatterternary": [
           {
            "marker": {
             "colorbar": {
              "outlinewidth": 0,
              "ticks": ""
             }
            },
            "type": "scatterternary"
           }
          ],
          "surface": [
           {
            "colorbar": {
             "outlinewidth": 0,
             "ticks": ""
            },
            "colorscale": [
             [
              0,
              "#0d0887"
             ],
             [
              0.1111111111111111,
              "#46039f"
             ],
             [
              0.2222222222222222,
              "#7201a8"
             ],
             [
              0.3333333333333333,
              "#9c179e"
             ],
             [
              0.4444444444444444,
              "#bd3786"
             ],
             [
              0.5555555555555556,
              "#d8576b"
             ],
             [
              0.6666666666666666,
              "#ed7953"
             ],
             [
              0.7777777777777778,
              "#fb9f3a"
             ],
             [
              0.8888888888888888,
              "#fdca26"
             ],
             [
              1,
              "#f0f921"
             ]
            ],
            "type": "surface"
           }
          ],
          "table": [
           {
            "cells": {
             "fill": {
              "color": "#EBF0F8"
             },
             "line": {
              "color": "white"
             }
            },
            "header": {
             "fill": {
              "color": "#C8D4E3"
             },
             "line": {
              "color": "white"
             }
            },
            "type": "table"
           }
          ]
         },
         "layout": {
          "annotationdefaults": {
           "arrowcolor": "#2a3f5f",
           "arrowhead": 0,
           "arrowwidth": 1
          },
          "autotypenumbers": "strict",
          "coloraxis": {
           "colorbar": {
            "outlinewidth": 0,
            "ticks": ""
           }
          },
          "colorscale": {
           "diverging": [
            [
             0,
             "#8e0152"
            ],
            [
             0.1,
             "#c51b7d"
            ],
            [
             0.2,
             "#de77ae"
            ],
            [
             0.3,
             "#f1b6da"
            ],
            [
             0.4,
             "#fde0ef"
            ],
            [
             0.5,
             "#f7f7f7"
            ],
            [
             0.6,
             "#e6f5d0"
            ],
            [
             0.7,
             "#b8e186"
            ],
            [
             0.8,
             "#7fbc41"
            ],
            [
             0.9,
             "#4d9221"
            ],
            [
             1,
             "#276419"
            ]
           ],
           "sequential": [
            [
             0,
             "#0d0887"
            ],
            [
             0.1111111111111111,
             "#46039f"
            ],
            [
             0.2222222222222222,
             "#7201a8"
            ],
            [
             0.3333333333333333,
             "#9c179e"
            ],
            [
             0.4444444444444444,
             "#bd3786"
            ],
            [
             0.5555555555555556,
             "#d8576b"
            ],
            [
             0.6666666666666666,
             "#ed7953"
            ],
            [
             0.7777777777777778,
             "#fb9f3a"
            ],
            [
             0.8888888888888888,
             "#fdca26"
            ],
            [
             1,
             "#f0f921"
            ]
           ],
           "sequentialminus": [
            [
             0,
             "#0d0887"
            ],
            [
             0.1111111111111111,
             "#46039f"
            ],
            [
             0.2222222222222222,
             "#7201a8"
            ],
            [
             0.3333333333333333,
             "#9c179e"
            ],
            [
             0.4444444444444444,
             "#bd3786"
            ],
            [
             0.5555555555555556,
             "#d8576b"
            ],
            [
             0.6666666666666666,
             "#ed7953"
            ],
            [
             0.7777777777777778,
             "#fb9f3a"
            ],
            [
             0.8888888888888888,
             "#fdca26"
            ],
            [
             1,
             "#f0f921"
            ]
           ]
          },
          "colorway": [
           "#636efa",
           "#EF553B",
           "#00cc96",
           "#ab63fa",
           "#FFA15A",
           "#19d3f3",
           "#FF6692",
           "#B6E880",
           "#FF97FF",
           "#FECB52"
          ],
          "font": {
           "color": "#2a3f5f"
          },
          "geo": {
           "bgcolor": "white",
           "lakecolor": "white",
           "landcolor": "#E5ECF6",
           "showlakes": true,
           "showland": true,
           "subunitcolor": "white"
          },
          "hoverlabel": {
           "align": "left"
          },
          "hovermode": "closest",
          "mapbox": {
           "style": "light"
          },
          "paper_bgcolor": "white",
          "plot_bgcolor": "#E5ECF6",
          "polar": {
           "angularaxis": {
            "gridcolor": "white",
            "linecolor": "white",
            "ticks": ""
           },
           "bgcolor": "#E5ECF6",
           "radialaxis": {
            "gridcolor": "white",
            "linecolor": "white",
            "ticks": ""
           }
          },
          "scene": {
           "xaxis": {
            "backgroundcolor": "#E5ECF6",
            "gridcolor": "white",
            "gridwidth": 2,
            "linecolor": "white",
            "showbackground": true,
            "ticks": "",
            "zerolinecolor": "white"
           },
           "yaxis": {
            "backgroundcolor": "#E5ECF6",
            "gridcolor": "white",
            "gridwidth": 2,
            "linecolor": "white",
            "showbackground": true,
            "ticks": "",
            "zerolinecolor": "white"
           },
           "zaxis": {
            "backgroundcolor": "#E5ECF6",
            "gridcolor": "white",
            "gridwidth": 2,
            "linecolor": "white",
            "showbackground": true,
            "ticks": "",
            "zerolinecolor": "white"
           }
          },
          "shapedefaults": {
           "line": {
            "color": "#2a3f5f"
           }
          },
          "ternary": {
           "aaxis": {
            "gridcolor": "white",
            "linecolor": "white",
            "ticks": ""
           },
           "baxis": {
            "gridcolor": "white",
            "linecolor": "white",
            "ticks": ""
           },
           "bgcolor": "#E5ECF6",
           "caxis": {
            "gridcolor": "white",
            "linecolor": "white",
            "ticks": ""
           }
          },
          "title": {
           "x": 0.05
          },
          "xaxis": {
           "automargin": true,
           "gridcolor": "white",
           "linecolor": "white",
           "ticks": "",
           "title": {
            "standoff": 15
           },
           "zerolinecolor": "white",
           "zerolinewidth": 2
          },
          "yaxis": {
           "automargin": true,
           "gridcolor": "white",
           "linecolor": "white",
           "ticks": "",
           "title": {
            "standoff": 15
           },
           "zerolinecolor": "white",
           "zerolinewidth": 2
          }
         }
        },
        "title": {
         "text": "Integrated Gradients Attribution"
        },
        "width": 800,
        "xaxis": {
         "anchor": "y",
         "constrain": "domain",
         "domain": [
          0,
          1
         ],
         "scaleanchor": "y",
         "title": {
          "text": "Time Steps (Days)"
         }
        },
        "yaxis": {
         "anchor": "x",
         "autorange": "reversed",
         "constrain": "domain",
         "domain": [
          0,
          1
         ],
         "title": {
          "text": "Features"
         }
        }
       }
      }
     },
     "metadata": {},
     "output_type": "display_data"
    }
   ],
   "source": [
    "\n",
    "# Visualization of IG for Recurrent Features\n",
    "plot_feature_importance(IG_recurrent, feature_columns[:-1])"
   ]
  },
  {
   "cell_type": "code",
   "execution_count": null,
   "metadata": {},
   "outputs": [],
   "source": []
  }
 ],
 "metadata": {
  "kernelspec": {
   "display_name": "base",
   "language": "python",
   "name": "python3"
  },
  "language_info": {
   "codemirror_mode": {
    "name": "ipython",
    "version": 3
   },
   "file_extension": ".py",
   "mimetype": "text/x-python",
   "name": "python",
   "nbconvert_exporter": "python",
   "pygments_lexer": "ipython3",
   "version": "3.11.4"
  }
 },
 "nbformat": 4,
 "nbformat_minor": 2
}
